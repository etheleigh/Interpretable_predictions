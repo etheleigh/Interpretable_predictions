{
 "cells": [
  {
   "cell_type": "markdown",
   "metadata": {
    "id": "YrY1KXAu7xbu"
   },
   "source": [
    "# Recommender System for Board Games from [BoardGameGeek.com](https://boardgamegeek.com/)\n",
    "\n",
    "\n",
    "\n",
    "1.   Iatrou Manos\n",
    "2.   Papageorgiou Vasileios\n",
    "3. Sykianakis Xaralambos\n",
    "\n",
    "\n"
   ]
  },
  {
   "cell_type": "markdown",
   "metadata": {
    "id": "fG1Bk3RH1Jnm"
   },
   "source": [
    "# Dataset Description\n",
    "\n",
    "\n",
    "\n",
    "*   Games File\n",
    "*   User Ratings File\n",
    "*   Mechanics File\n",
    "*   Themes File\n",
    "\n"
   ]
  },
  {
   "cell_type": "code",
   "execution_count": 1,
   "metadata": {
    "executionInfo": {
     "elapsed": 2,
     "status": "ok",
     "timestamp": 1705159259751,
     "user": {
      "displayName": "Manos Iatrou",
      "userId": "06334887705736778908"
     },
     "user_tz": -60
    },
    "id": "c67SVSui_CC_"
   },
   "outputs": [],
   "source": [
    "import pandas as pd\n",
    "import numpy as np\n",
    "import os\n",
    "import glob\n",
    "from pathlib import Path\n",
    "import pandas as pd\n",
    "import warnings\n",
    "warnings.filterwarnings(\"ignore\")\n",
    "import matplotlib.pyplot as plt"
   ]
  },
  {
   "cell_type": "code",
   "execution_count": 2,
   "metadata": {
    "executionInfo": {
     "elapsed": 315,
     "status": "ok",
     "timestamp": 1705159264274,
     "user": {
      "displayName": "Manos Iatrou",
      "userId": "06334887705736778908"
     },
     "user_tz": -60
    },
    "id": "Vnu-yELRldoR"
   },
   "outputs": [],
   "source": [
    "games = pd.read_csv('games.csv')\n",
    "mechanics =  pd.read_csv('mechanics.csv')\n",
    "themes =  pd.read_csv('themes.csv')\n",
    "user_ratings =  pd.read_csv('user_ratings.csv')"
   ]
  },
  {
   "cell_type": "code",
   "execution_count": 3,
   "metadata": {
    "id": "_2ohGbjnwplG"
   },
   "outputs": [],
   "source": [
    "columns_to_keep = ['BGGId', 'YearPublished', 'GameWeight','NumWish','MfgPlaytime','MfgAgeRec','NumAlternates','NumExpansions','NumImplementations','Kickstarted',\n",
    "                   'Cat:Thematic','Cat:Strategy','Cat:War','Cat:Family','Cat:CGS','Cat:Abstract','Cat:Party','Cat:Childrens']"
   ]
  },
  {
   "cell_type": "code",
   "execution_count": 4,
   "metadata": {},
   "outputs": [],
   "source": [
    "games = games[columns_to_keep]"
   ]
  },
  {
   "cell_type": "code",
   "execution_count": 5,
   "metadata": {},
   "outputs": [],
   "source": [
    "def replace_non_zero_with_column_name(row):\n",
    "    for col in games.columns:\n",
    "        if col != 'BGGId' and col != 'YearPublished' and row[col] != 0:\n",
    "            row[col] = col\n",
    "    return row\n",
    "\n",
    "games_v2= games.apply(replace_non_zero_with_column_name, axis=1)"
   ]
  },
  {
   "cell_type": "code",
   "execution_count": 6,
   "metadata": {
    "scrolled": true
   },
   "outputs": [],
   "source": [
    "def replace_non_zero_with_column_name(row):\n",
    "    for col in mechanics.columns:\n",
    "        if col != 'BGGId' and row[col] != 0:\n",
    "            row[col] = col\n",
    "    return row\n",
    "\n",
    "mechanics_v2= mechanics.apply(replace_non_zero_with_column_name, axis=1)"
   ]
  },
  {
   "cell_type": "code",
   "execution_count": 7,
   "metadata": {},
   "outputs": [],
   "source": [
    "def replace_non_zero_with_column_name(row):\n",
    "    for col in themes.columns:\n",
    "        if col != 'BGGId' and row[col] != 0:\n",
    "            row[col] = col\n",
    "    return row\n",
    "\n",
    "themes_v2= themes.apply(replace_non_zero_with_column_name, axis=1)"
   ]
  },
  {
   "cell_type": "code",
   "execution_count": 8,
   "metadata": {},
   "outputs": [],
   "source": [
    "columns_to_exclude = ['BGGId', 'YearPublished']\n",
    "replace_dict = {col: {0: \"\"} for col in games_v2.columns if col not in columns_to_exclude}\n",
    "\n",
    "games_v2.replace(replace_dict, inplace=True)"
   ]
  },
  {
   "cell_type": "code",
   "execution_count": 9,
   "metadata": {},
   "outputs": [],
   "source": [
    "# games_v2.replace(0, \"\", inplace=True)\n",
    "mechanics_v2.replace(0, \"\", inplace=True)\n",
    "themes_v2.replace(0, \"\", inplace=True)"
   ]
  },
  {
   "cell_type": "code",
   "execution_count": 10,
   "metadata": {},
   "outputs": [],
   "source": [
    "def concatenate_columns_except_bggid(row):\n",
    "    return ' '.join(map(str, [row[col] for col in games_v2.columns if col != 'BGGId' and col != 'YearPublished']))\n",
    "\n",
    "games_v2['games'] = games_v2.apply(concatenate_columns_except_bggid, axis=1)"
   ]
  },
  {
   "cell_type": "code",
   "execution_count": 11,
   "metadata": {},
   "outputs": [],
   "source": [
    "def concatenate_columns_except_bggid(row):\n",
    "    return ' '.join(map(str, [row[col] for col in mechanics_v2.columns if col != 'BGGId']))\n",
    "\n",
    "mechanics_v2['mechanics'] = mechanics_v2.apply(concatenate_columns_except_bggid, axis=1)"
   ]
  },
  {
   "cell_type": "code",
   "execution_count": 12,
   "metadata": {},
   "outputs": [],
   "source": [
    "def concatenate_columns_except_bggid(row):\n",
    "    return ' '.join(map(str, [row[col] for col in themes_v2.columns if col != 'BGGId']))\n",
    "\n",
    "themes_v2['themes'] = themes_v2.apply(concatenate_columns_except_bggid, axis=1)"
   ]
  },
  {
   "cell_type": "code",
   "execution_count": 13,
   "metadata": {},
   "outputs": [],
   "source": [
    "games_v2 = games_v2[['BGGId','YearPublished','games']]\n",
    "mechanics_v2 = mechanics_v2[['BGGId', 'mechanics']]\n",
    "themes_v2 = themes_v2[['BGGId', 'themes']]"
   ]
  },
  {
   "cell_type": "code",
   "execution_count": 14,
   "metadata": {},
   "outputs": [],
   "source": [
    "def remove_extra_spaces(text):\n",
    "    return ' '.join(text.split())"
   ]
  },
  {
   "cell_type": "code",
   "execution_count": 15,
   "metadata": {},
   "outputs": [],
   "source": [
    "games_v2['games'] = games_v2['games'].apply(remove_extra_spaces)\n",
    "mechanics_v2['mechanics'] = mechanics_v2['mechanics'].apply(remove_extra_spaces)\n",
    "themes_v2['themes'] = themes_v2['themes'].apply(remove_extra_spaces)"
   ]
  },
  {
   "cell_type": "code",
   "execution_count": 16,
   "metadata": {},
   "outputs": [],
   "source": [
    "merged_df = pd.merge(games_v2, mechanics_v2, on='BGGId')\n",
    "games = pd.merge(merged_df, themes_v2, on='BGGId')"
   ]
  },
  {
   "cell_type": "code",
   "execution_count": 17,
   "metadata": {},
   "outputs": [],
   "source": [
    "games = games.astype({'BGGId':'int'})\n",
    "games = games.astype({'YearPublished':'int'})"
   ]
  },
  {
   "cell_type": "code",
   "execution_count": 18,
   "metadata": {},
   "outputs": [
    {
     "data": {
      "text/html": [
       "<div>\n",
       "<style scoped>\n",
       "    .dataframe tbody tr th:only-of-type {\n",
       "        vertical-align: middle;\n",
       "    }\n",
       "\n",
       "    .dataframe tbody tr th {\n",
       "        vertical-align: top;\n",
       "    }\n",
       "\n",
       "    .dataframe thead th {\n",
       "        text-align: right;\n",
       "    }\n",
       "</style>\n",
       "<table border=\"1\" class=\"dataframe\">\n",
       "  <thead>\n",
       "    <tr style=\"text-align: right;\">\n",
       "      <th></th>\n",
       "      <th>BGGId</th>\n",
       "      <th>YearPublished</th>\n",
       "      <th>games</th>\n",
       "      <th>mechanics</th>\n",
       "      <th>themes</th>\n",
       "    </tr>\n",
       "  </thead>\n",
       "  <tbody>\n",
       "    <tr>\n",
       "      <th>0</th>\n",
       "      <td>1</td>\n",
       "      <td>1986</td>\n",
       "      <td>GameWeight NumWish MfgPlaytime MfgAgeRec NumAl...</td>\n",
       "      <td>Alliances Area Majority / Influence Auction/Bi...</td>\n",
       "      <td>Economic Political</td>\n",
       "    </tr>\n",
       "    <tr>\n",
       "      <th>1</th>\n",
       "      <td>2</td>\n",
       "      <td>1981</td>\n",
       "      <td>GameWeight NumWish MfgPlaytime MfgAgeRec NumIm...</td>\n",
       "      <td>Trick-taking</td>\n",
       "      <td>Fantasy</td>\n",
       "    </tr>\n",
       "    <tr>\n",
       "      <th>2</th>\n",
       "      <td>3</td>\n",
       "      <td>1998</td>\n",
       "      <td>GameWeight NumWish MfgPlaytime MfgAgeRec NumAl...</td>\n",
       "      <td>Area Majority / Influence Hand Management Hexa...</td>\n",
       "      <td>Medieval Theme_Samurai</td>\n",
       "    </tr>\n",
       "    <tr>\n",
       "      <th>3</th>\n",
       "      <td>4</td>\n",
       "      <td>1992</td>\n",
       "      <td>GameWeight NumWish MfgPlaytime MfgAgeRec</td>\n",
       "      <td>Area Majority / Influence Auction/Bidding Set ...</td>\n",
       "      <td>Ancient</td>\n",
       "    </tr>\n",
       "    <tr>\n",
       "      <th>4</th>\n",
       "      <td>5</td>\n",
       "      <td>1964</td>\n",
       "      <td>GameWeight NumWish MfgPlaytime MfgAgeRec NumAl...</td>\n",
       "      <td>Hand Management Tile Placement Investment Mark...</td>\n",
       "      <td>Economic</td>\n",
       "    </tr>\n",
       "    <tr>\n",
       "      <th>...</th>\n",
       "      <td>...</td>\n",
       "      <td>...</td>\n",
       "      <td>...</td>\n",
       "      <td>...</td>\n",
       "      <td>...</td>\n",
       "    </tr>\n",
       "    <tr>\n",
       "      <th>21920</th>\n",
       "      <td>347146</td>\n",
       "      <td>2021</td>\n",
       "      <td>NumWish MfgPlaytime MfgAgeRec</td>\n",
       "      <td>Auction/Bidding Trick-taking</td>\n",
       "      <td></td>\n",
       "    </tr>\n",
       "    <tr>\n",
       "      <th>21921</th>\n",
       "      <td>347521</td>\n",
       "      <td>2019</td>\n",
       "      <td>GameWeight NumWish MfgPlaytime MfgAgeRec NumIm...</td>\n",
       "      <td>Area Majority / Influence Hand Management Race...</td>\n",
       "      <td>World War II</td>\n",
       "    </tr>\n",
       "    <tr>\n",
       "      <th>21922</th>\n",
       "      <td>348955</td>\n",
       "      <td>2021</td>\n",
       "      <td>GameWeight NumWish MfgPlaytime MfgAgeRec Kicks...</td>\n",
       "      <td>Dice Rolling Solo / Solitaire Game Die Icon Re...</td>\n",
       "      <td></td>\n",
       "    </tr>\n",
       "    <tr>\n",
       "      <th>21923</th>\n",
       "      <td>349131</td>\n",
       "      <td>2021</td>\n",
       "      <td>GameWeight NumWish MfgPlaytime MfgAgeRec</td>\n",
       "      <td>Dice Rolling Pattern Building</td>\n",
       "      <td></td>\n",
       "    </tr>\n",
       "    <tr>\n",
       "      <th>21924</th>\n",
       "      <td>349161</td>\n",
       "      <td>0</td>\n",
       "      <td>GameWeight NumWish MfgPlaytime MfgAgeRec</td>\n",
       "      <td>Dice Rolling Paper-and-Pencil Solo / Solitaire...</td>\n",
       "      <td>Nautical Pirates</td>\n",
       "    </tr>\n",
       "  </tbody>\n",
       "</table>\n",
       "<p>21925 rows × 5 columns</p>\n",
       "</div>"
      ],
      "text/plain": [
       "        BGGId  YearPublished  \\\n",
       "0           1           1986   \n",
       "1           2           1981   \n",
       "2           3           1998   \n",
       "3           4           1992   \n",
       "4           5           1964   \n",
       "...       ...            ...   \n",
       "21920  347146           2021   \n",
       "21921  347521           2019   \n",
       "21922  348955           2021   \n",
       "21923  349131           2021   \n",
       "21924  349161              0   \n",
       "\n",
       "                                                   games  \\\n",
       "0      GameWeight NumWish MfgPlaytime MfgAgeRec NumAl...   \n",
       "1      GameWeight NumWish MfgPlaytime MfgAgeRec NumIm...   \n",
       "2      GameWeight NumWish MfgPlaytime MfgAgeRec NumAl...   \n",
       "3               GameWeight NumWish MfgPlaytime MfgAgeRec   \n",
       "4      GameWeight NumWish MfgPlaytime MfgAgeRec NumAl...   \n",
       "...                                                  ...   \n",
       "21920                      NumWish MfgPlaytime MfgAgeRec   \n",
       "21921  GameWeight NumWish MfgPlaytime MfgAgeRec NumIm...   \n",
       "21922  GameWeight NumWish MfgPlaytime MfgAgeRec Kicks...   \n",
       "21923           GameWeight NumWish MfgPlaytime MfgAgeRec   \n",
       "21924           GameWeight NumWish MfgPlaytime MfgAgeRec   \n",
       "\n",
       "                                               mechanics  \\\n",
       "0      Alliances Area Majority / Influence Auction/Bi...   \n",
       "1                                           Trick-taking   \n",
       "2      Area Majority / Influence Hand Management Hexa...   \n",
       "3      Area Majority / Influence Auction/Bidding Set ...   \n",
       "4      Hand Management Tile Placement Investment Mark...   \n",
       "...                                                  ...   \n",
       "21920                       Auction/Bidding Trick-taking   \n",
       "21921  Area Majority / Influence Hand Management Race...   \n",
       "21922  Dice Rolling Solo / Solitaire Game Die Icon Re...   \n",
       "21923                      Dice Rolling Pattern Building   \n",
       "21924  Dice Rolling Paper-and-Pencil Solo / Solitaire...   \n",
       "\n",
       "                       themes  \n",
       "0          Economic Political  \n",
       "1                     Fantasy  \n",
       "2      Medieval Theme_Samurai  \n",
       "3                     Ancient  \n",
       "4                    Economic  \n",
       "...                       ...  \n",
       "21920                          \n",
       "21921            World War II  \n",
       "21922                          \n",
       "21923                          \n",
       "21924        Nautical Pirates  \n",
       "\n",
       "[21925 rows x 5 columns]"
      ]
     },
     "execution_count": 18,
     "metadata": {},
     "output_type": "execute_result"
    }
   ],
   "source": [
    "games"
   ]
  },
  {
   "cell_type": "code",
   "execution_count": 19,
   "metadata": {},
   "outputs": [],
   "source": [
    "from sklearn.preprocessing import LabelEncoder\n",
    "\n",
    "column_to_encode = 'Username'\n",
    "label_encoder = LabelEncoder()\n",
    "user_ratings[column_to_encode] = label_encoder.fit_transform(user_ratings[column_to_encode])"
   ]
  },
  {
   "cell_type": "code",
   "execution_count": 20,
   "metadata": {},
   "outputs": [
    {
     "data": {
      "image/png": "[encoded data removed]",
      "text/plain": [
       "<Figure size 640x480 with 1 Axes>"
      ]
     },
     "metadata": {},
     "output_type": "display_data"
    }
   ],
   "source": [
    "your_column = 'Rating'\n",
    "\n",
    "plt.hist(user_ratings[your_column], bins=10, edgecolor='black')\n",
    "plt.title(f'Distribution of {your_column}')\n",
    "plt.xlabel(your_column)\n",
    "plt.ylabel('Frequency')\n",
    "plt.show()"
   ]
  },
  {
   "cell_type": "code",
   "execution_count": 21,
   "metadata": {},
   "outputs": [],
   "source": [
    "user_ratings['sentiment'] = user_ratings['Rating'].apply(lambda x: 0 if x <= 5 else (1 if x <= 8 else 2))"
   ]
  },
  {
   "cell_type": "code",
   "execution_count": 22,
   "metadata": {},
   "outputs": [],
   "source": [
    "user_ratings = user_ratings.drop('Rating', axis=1)"
   ]
  },
  {
   "cell_type": "code",
   "execution_count": 10,
   "metadata": {},
   "outputs": [],
   "source": [
    "# import pandas as pd\n",
    "# from sklearn.model_selection import train_test_split\n",
    "# from sklearn.linear_model import LogisticRegression\n",
    "# from sklearn.metrics import accuracy_score\n",
    "\n",
    "# percentage_to_keep = 10\n",
    "\n",
    "# num_rows_to_keep = int(len(user_ratings) * (percentage_to_keep / 100))\n",
    "# user_ratings_subset = user_ratings.sample(n=num_rows_to_keep, random_state=42)\n",
    "# merged_df = pd.merge(user_ratings_subset, games, on='BGGId')\n",
    "# X = merged_df.drop(['BGGId', 'sentiment'], axis=1)\n",
    "# y = merged_df['sentiment']\n",
    "\n",
    "# X_train, X_test, y_train, y_test = train_test_split(X, y, test_size=0.2, random_state=42)\n",
    "\n",
    "# logistic_model = LogisticRegression()\n",
    "# logistic_model.fit(X_train, y_train)\n",
    "\n",
    "# y_pred = logistic_model.predict(X_test)\n",
    "# accuracy = accuracy_score(y_test, y_pred)\n",
    "# print(f'Accuracy: {accuracy}')"
   ]
  },
  {
   "cell_type": "code",
   "execution_count": null,
   "metadata": {},
   "outputs": [],
   "source": []
  },
  {
   "cell_type": "code",
   "execution_count": null,
   "metadata": {},
   "outputs": [],
   "source": []
  },
  {
   "cell_type": "code",
   "execution_count": null,
   "metadata": {},
   "outputs": [],
   "source": []
  },
  {
   "cell_type": "code",
   "execution_count": null,
   "metadata": {},
   "outputs": [],
   "source": []
  }
 ],
 "metadata": {
  "colab": {
   "authorship_tag": "ABX9TyPgjHRAUJ0+/foFIM7fhikU",
   "mount_file_id": "17RydR4IyrzQtahs1w5U-SiATolfJUDHl",
   "provenance": []
  },
  "kernelspec": {
   "display_name": "Python 3 (ipykernel)",
   "language": "python",
   "name": "python3"
  },
  "language_info": {
   "codemirror_mode": {
    "name": "ipython",
    "version": 3
   },
   "file_extension": ".py",
   "mimetype": "text/x-python",
   "name": "python",
   "nbconvert_exporter": "python",
   "pygments_lexer": "ipython3",
   "version": "3.9.18"
  }
 },
 "nbformat": 4,
 "nbformat_minor": 4
}
