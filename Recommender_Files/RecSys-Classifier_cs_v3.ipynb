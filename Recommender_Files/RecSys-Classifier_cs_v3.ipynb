{
 "cells": [
  {
   "cell_type": "markdown",
   "metadata": {
    "id": "YrY1KXAu7xbu"
   },
   "source": [
    "# Recommender System for Board Games from [BoardGameGeek.com](https://boardgamegeek.com/)\n",
    "\n",
    "\n",
    "\n",
    "1.   Iatrou Manos\n",
    "2.   Papageorgiou Vasileios\n",
    "3. Sykianakis Xaralambos\n",
    "\n",
    "\n"
   ]
  },
  {
   "cell_type": "markdown",
   "metadata": {
    "id": "fG1Bk3RH1Jnm"
   },
   "source": [
    "# Dataset Description\n",
    "\n",
    "\n",
    "\n",
    "*   Games File\n",
    "*   User Ratings File\n",
    "*   Mechanics File\n",
    "*   Themes File\n",
    "\n"
   ]
  },
  {
   "cell_type": "code",
   "execution_count": 1,
   "metadata": {
    "colab": {
     "base_uri": "https://localhost:8080/"
    },
    "executionInfo": {
     "elapsed": 4509,
     "status": "ok",
     "timestamp": 1705326351034,
     "user": {
      "displayName": "Manos Iatrou",
      "userId": "06334887705736778908"
     },
     "user_tz": -60
    },
    "id": "c67SVSui_CC_",
    "outputId": "3e132f4f-b63c-4aa3-ad4d-a63172462e6f"
   },
   "outputs": [],
   "source": [
    "import pandas as pd\n",
    "import numpy as np\n",
    "import os\n",
    "import glob\n",
    "from pathlib import Path\n",
    "from scipy.sparse import csr_matrix\n",
    "from sklearn.decomposition import TruncatedSVD\n",
    "from sklearn.metrics.pairwise import cosine_similarity\n",
    "from sklearn.feature_extraction.text import TfidfVectorizer\n",
    "from sklearn.preprocessing import MinMaxScaler\n",
    "import matplotlib.pyplot as plt\n",
    "\n",
    "#from google.colab import drive\n",
    "#drive.mount('/content/drive')"
   ]
  },
  {
   "cell_type": "code",
   "execution_count": 2,
   "metadata": {
    "executionInfo": {
     "elapsed": 30809,
     "status": "ok",
     "timestamp": 1705326383730,
     "user": {
      "displayName": "Manos Iatrou",
      "userId": "06334887705736778908"
     },
     "user_tz": -60
    },
    "id": "Vnu-yELRldoR"
   },
   "outputs": [],
   "source": [
    "# List of CSV file paths or filenames\n",
    "# csv_files = ['games.csv', 'mechanics.csv', 'themes.csv','user_ratings.csv']\n",
    "folder_path = Path(r'C:\\Users\\maniat\\OneDrive - Lyse AS\\Desktop\\personal\\MSc\\Customer Analytics\\Recommender Classification\\Recommender_Files')\n",
    "games = pd.read_csv(folder_path / 'games.csv')\n",
    "mechanics =  pd.read_csv(folder_path / 'mechanics.csv')\n",
    "themes =  pd.read_csv(folder_path / 'themes.csv')\n",
    "user_ratings =  pd.read_csv(folder_path /'user_ratings.csv')"
   ]
  },
  {
   "cell_type": "code",
   "execution_count": 9,
   "metadata": {
    "executionInfo": {
     "elapsed": 352,
     "status": "ok",
     "timestamp": 1705326385917,
     "user": {
      "displayName": "Manos Iatrou",
      "userId": "06334887705736778908"
     },
     "user_tz": -60
    },
    "id": "_2ohGbjnwplG"
   },
   "outputs": [],
   "source": [
    "columns_to_keep = ['BGGId','GameWeight','MfgPlaytime','NumAlternates','NumExpansions','NumImplementations','Kickstarted',\n",
    "                   'Cat:Thematic','Cat:Strategy','Cat:War','Cat:Family','Cat:CGS','Cat:Abstract','Cat:Party','Cat:Childrens']"
   ]
  },
  {
   "cell_type": "code",
   "execution_count": 10,
   "metadata": {},
   "outputs": [],
   "source": [
    "games = games[columns_to_keep]"
   ]
  },
  {
   "cell_type": "code",
   "execution_count": 11,
   "metadata": {},
   "outputs": [
    {
     "name": "stderr",
     "output_type": "stream",
     "text": [
      "C:\\Users\\maniat\\AppData\\Local\\Temp\\ipykernel_8376\\852537194.py:1: SettingWithCopyWarning: \n",
      "A value is trying to be set on a copy of a slice from a DataFrame.\n",
      "Try using .loc[row_indexer,col_indexer] = value instead\n",
      "\n",
      "See the caveats in the documentation: https://pandas.pydata.org/pandas-docs/stable/user_guide/indexing.html#returning-a-view-versus-a-copy\n",
      "  games['GameWeight'] = games['GameWeight'].apply(lambda x: 'Difficult' if x > 3.5 else ('Medium' if x > 2 else 'Easy'))\n"
     ]
    }
   ],
   "source": [
    "games['GameWeight'] = games['GameWeight'].apply(lambda x: 'Difficult' if x > 3.5 else ('Medium' if x > 2 else 'Easy'))"
   ]
  },
  {
   "cell_type": "code",
   "execution_count": 12,
   "metadata": {},
   "outputs": [
    {
     "name": "stderr",
     "output_type": "stream",
     "text": [
      "C:\\Users\\maniat\\AppData\\Local\\Temp\\ipykernel_8376\\1745565743.py:1: SettingWithCopyWarning: \n",
      "A value is trying to be set on a copy of a slice from a DataFrame.\n",
      "Try using .loc[row_indexer,col_indexer] = value instead\n",
      "\n",
      "See the caveats in the documentation: https://pandas.pydata.org/pandas-docs/stable/user_guide/indexing.html#returning-a-view-versus-a-copy\n",
      "  games['MfgPlaytime'] = games['MfgPlaytime'].apply(lambda x: 'Long_Game' if x > 120 else ('Regular_Game' if x > 50 else 'Short_Game'))\n"
     ]
    }
   ],
   "source": [
    "games['MfgPlaytime'] = games['MfgPlaytime'].apply(lambda x: 'Long_Game' if x > 120 else ('Regular_Game' if x > 50 else 'Short_Game'))"
   ]
  },
  {
   "cell_type": "code",
   "execution_count": 13,
   "metadata": {
    "executionInfo": {
     "elapsed": 374,
     "status": "ok",
     "timestamp": 1705326389328,
     "user": {
      "displayName": "Manos Iatrou",
      "userId": "06334887705736778908"
     },
     "user_tz": -60
    },
    "id": "9WaUfvgYHyHs"
   },
   "outputs": [],
   "source": [
    "merged_df = pd.merge(games, mechanics, on='BGGId')\n",
    "games = pd.merge(merged_df, themes, on='BGGId')"
   ]
  },
  {
   "cell_type": "code",
   "execution_count": 14,
   "metadata": {},
   "outputs": [],
   "source": [
    "renaming_dict = {col: col.replace('Theme_', '') if col.startswith('Theme_') \n",
    "                 else col.replace('Cat:', '') if col.startswith('Cat:')\n",
    "                 else col\n",
    "                 for col in games.columns}\n",
    "games.rename(columns=renaming_dict,inplace=True)"
   ]
  },
  {
   "cell_type": "code",
   "execution_count": 21,
   "metadata": {},
   "outputs": [],
   "source": [
    "def get_description(df):\n",
    "    def categorize(row):\n",
    "        categories = []\n",
    "        for col in df.columns[3:]:\n",
    "            if row[col] > 0:\n",
    "                category = col\n",
    "                categories.append(category)\n",
    "        return ','.join(categories) if categories else 'Other'\n",
    "    return df.apply(categorize,axis=1)"
   ]
  },
  {
   "cell_type": "code",
   "execution_count": 22,
   "metadata": {},
   "outputs": [],
   "source": [
    "games['Details'] = get_description(games)"
   ]
  },
  {
   "cell_type": "code",
   "execution_count": 25,
   "metadata": {},
   "outputs": [],
   "source": [
    "games['Summary'] = games['Details'] + ',' + games['GameWeight'] + ',' + games['MfgPlaytime']"
   ]
  },
  {
   "cell_type": "code",
   "execution_count": 28,
   "metadata": {},
   "outputs": [],
   "source": [
    "games = games[['BGGId','Summary']]"
   ]
  },
  {
   "cell_type": "code",
   "execution_count": null,
   "metadata": {},
   "outputs": [],
   "source": []
  },
  {
   "cell_type": "code",
   "execution_count": null,
   "metadata": {},
   "outputs": [],
   "source": []
  },
  {
   "cell_type": "code",
   "execution_count": null,
   "metadata": {},
   "outputs": [],
   "source": []
  },
  {
   "cell_type": "code",
   "execution_count": null,
   "metadata": {},
   "outputs": [],
   "source": []
  },
  {
   "cell_type": "code",
   "execution_count": null,
   "metadata": {},
   "outputs": [],
   "source": []
  },
  {
   "cell_type": "code",
   "execution_count": null,
   "metadata": {},
   "outputs": [],
   "source": []
  },
  {
   "cell_type": "code",
   "execution_count": null,
   "metadata": {},
   "outputs": [],
   "source": []
  },
  {
   "cell_type": "code",
   "execution_count": null,
   "metadata": {},
   "outputs": [],
   "source": []
  },
  {
   "cell_type": "code",
   "execution_count": null,
   "metadata": {},
   "outputs": [],
   "source": []
  },
  {
   "cell_type": "code",
   "execution_count": null,
   "metadata": {},
   "outputs": [],
   "source": []
  },
  {
   "cell_type": "code",
   "execution_count": null,
   "metadata": {},
   "outputs": [],
   "source": []
  },
  {
   "cell_type": "code",
   "execution_count": null,
   "metadata": {},
   "outputs": [],
   "source": []
  },
  {
   "cell_type": "code",
   "execution_count": null,
   "metadata": {
    "executionInfo": {
     "elapsed": 12105,
     "status": "ok",
     "timestamp": 1705326437585,
     "user": {
      "displayName": "Manos Iatrou",
      "userId": "06334887705736778908"
     },
     "user_tz": -60
    },
    "id": "uXx-JB8kHyHv"
   },
   "outputs": [],
   "source": [
    "user_ratings['sentiment'] = user_ratings['Rating'].apply(lambda x: 0 if x <= 6 else 1)"
   ]
  },
  {
   "cell_type": "code",
   "execution_count": null,
   "metadata": {
    "executionInfo": {
     "elapsed": 414,
     "status": "ok",
     "timestamp": 1705326437974,
     "user": {
      "displayName": "Manos Iatrou",
      "userId": "06334887705736778908"
     },
     "user_tz": -60
    },
    "id": "Yd9pU1xrHyHw"
   },
   "outputs": [],
   "source": [
    "user_ratings = user_ratings.drop('Rating', axis=1)"
   ]
  },
  {
   "cell_type": "code",
   "execution_count": null,
   "metadata": {
    "executionInfo": {
     "elapsed": 289,
     "status": "ok",
     "timestamp": 1705326441547,
     "user": {
      "displayName": "Manos Iatrou",
      "userId": "06334887705736778908"
     },
     "user_tz": -60
    },
    "id": "-DhztqBpMrXi"
   },
   "outputs": [],
   "source": [
    "def downcasting_types(df: pd.DataFrame):\n",
    "  for column in df.columns:\n",
    "    colType = df[column].dtype\n",
    "    if colType == 'float64' :\n",
    "      df[column] = pd.to_numeric(df[column], downcast='float')\n",
    "    elif colType == 'int64' :\n",
    "      df[column] = pd.to_numeric(df[column], downcast='integer')\n",
    "  return df"
   ]
  },
  {
   "cell_type": "code",
   "execution_count": null,
   "metadata": {
    "executionInfo": {
     "elapsed": 4351,
     "status": "ok",
     "timestamp": 1705326452382,
     "user": {
      "displayName": "Manos Iatrou",
      "userId": "06334887705736778908"
     },
     "user_tz": -60
    },
    "id": "oQA5015sQNub"
   },
   "outputs": [],
   "source": [
    "new_gamedf = downcasting_types(games)"
   ]
  },
  {
   "cell_type": "code",
   "execution_count": null,
   "metadata": {
    "executionInfo": {
     "elapsed": 3713,
     "status": "ok",
     "timestamp": 1705326461157,
     "user": {
      "displayName": "Manos Iatrou",
      "userId": "06334887705736778908"
     },
     "user_tz": -60
    },
    "id": "9sfUcXsQQjdk"
   },
   "outputs": [],
   "source": [
    "new_userdf = downcasting_types(user_ratings)"
   ]
  },
  {
   "cell_type": "code",
   "execution_count": null,
   "metadata": {
    "colab": {
     "base_uri": "https://localhost:8080/"
    },
    "executionInfo": {
     "elapsed": 308,
     "status": "ok",
     "timestamp": 1705326475930,
     "user": {
      "displayName": "Manos Iatrou",
      "userId": "06334887705736778908"
     },
     "user_tz": -60
    },
    "id": "AIEgY2SIQZ6d",
    "outputId": "cff8bb34-608f-491d-b099-fcdac34e787b",
    "scrolled": true
   },
   "outputs": [],
   "source": [
    "print(new_gamedf.info())\n",
    "print(new_userdf.info())"
   ]
  }
 ],
 "metadata": {
  "colab": {
   "provenance": []
  },
  "kernelspec": {
   "display_name": "Python 3 (ipykernel)",
   "language": "python",
   "name": "python3"
  },
  "language_info": {
   "codemirror_mode": {
    "name": "ipython",
    "version": 3
   },
   "file_extension": ".py",
   "mimetype": "text/x-python",
   "name": "python",
   "nbconvert_exporter": "python",
   "pygments_lexer": "ipython3",
   "version": "3.10.9"
  }
 },
 "nbformat": 4,
 "nbformat_minor": 1
}
