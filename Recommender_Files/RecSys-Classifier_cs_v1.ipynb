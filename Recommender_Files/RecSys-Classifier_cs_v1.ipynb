{
 "cells": [
  {
   "cell_type": "markdown",
   "metadata": {
    "id": "YrY1KXAu7xbu"
   },
   "source": [
    "# Recommender System for Board Games from [BoardGameGeek.com](https://boardgamegeek.com/)\n",
    "\n",
    "\n",
    "\n",
    "1.   Iatrou Manos\n",
    "2.   Papageorgiou Vasileios\n",
    "3. Sykianakis Xaralambos\n",
    "\n",
    "\n"
   ]
  },
  {
   "cell_type": "markdown",
   "metadata": {
    "id": "fG1Bk3RH1Jnm"
   },
   "source": [
    "# Dataset Description\n",
    "\n",
    "\n",
    "\n",
    "*   Games File\n",
    "*   User Ratings File\n",
    "*   Mechanics File\n",
    "*   Themes File\n",
    "\n"
   ]
  },
  {
   "cell_type": "code",
   "execution_count": 1,
   "metadata": {
    "executionInfo": {
     "elapsed": 2,
     "status": "ok",
     "timestamp": 1705159259751,
     "user": {
      "displayName": "Manos Iatrou",
      "userId": "06334887705736778908"
     },
     "user_tz": -60
    },
    "id": "c67SVSui_CC_"
   },
   "outputs": [],
   "source": [
    "import pandas as pd\n",
    "import numpy as np\n",
    "import os\n",
    "import glob\n",
    "from pathlib import Path\n",
    "import pandas as pd\n",
    "import matplotlib.pyplot as plt"
   ]
  },
  {
   "cell_type": "code",
   "execution_count": 2,
   "metadata": {
    "executionInfo": {
     "elapsed": 315,
     "status": "ok",
     "timestamp": 1705159264274,
     "user": {
      "displayName": "Manos Iatrou",
      "userId": "06334887705736778908"
     },
     "user_tz": -60
    },
    "id": "Vnu-yELRldoR"
   },
   "outputs": [],
   "source": [
    "import pandas as pd\n",
    "\n",
    "# List of CSV file paths or filenames\n",
    "# csv_files = ['games.csv', 'mechanics.csv', 'themes.csv','user_ratings.csv']\n",
    "\n",
    "games = pd.read_csv('games.csv')\n",
    "mechanics =  pd.read_csv('mechanics.csv')\n",
    "themes =  pd.read_csv('themes.csv')\n",
    "user_ratings =  pd.read_csv('user_ratings.csv')"
   ]
  },
  {
   "cell_type": "code",
   "execution_count": 3,
   "metadata": {
    "id": "_2ohGbjnwplG"
   },
   "outputs": [],
   "source": [
    "columns_to_keep = ['BGGId', 'YearPublished', 'GameWeight','NumWish','MfgPlaytime','MfgAgeRec','NumAlternates','NumExpansions','NumImplementations','Kickstarted',\n",
    "                   'Cat:Thematic','Cat:Strategy','Cat:War','Cat:Family','Cat:CGS','Cat:Abstract','Cat:Party','Cat:Childrens']"
   ]
  },
  {
   "cell_type": "code",
   "execution_count": 4,
   "metadata": {},
   "outputs": [],
   "source": [
    "games = games[columns_to_keep]"
   ]
  },
  {
   "cell_type": "code",
   "execution_count": 5,
   "metadata": {},
   "outputs": [],
   "source": [
    "merged_df = pd.merge(games, mechanics, on='BGGId')\n",
    "games = pd.merge(merged_df, themes, on='BGGId')"
   ]
  },
  {
   "cell_type": "code",
   "execution_count": 6,
   "metadata": {},
   "outputs": [],
   "source": [
    "from sklearn.preprocessing import LabelEncoder\n",
    "\n",
    "column_to_encode = 'Username'\n",
    "label_encoder = LabelEncoder()\n",
    "user_ratings[column_to_encode] = label_encoder.fit_transform(user_ratings[column_to_encode])"
   ]
  },
  {
   "cell_type": "code",
   "execution_count": 7,
   "metadata": {},
   "outputs": [
    {
     "data": {
      "image/png": "[encoded data removed]",
      "text/plain": [
       "<Figure size 640x480 with 1 Axes>"
      ]
     },
     "metadata": {},
     "output_type": "display_data"
    }
   ],
   "source": [
    "your_column = 'Rating'\n",
    "\n",
    "plt.hist(user_ratings[your_column], bins=10, edgecolor='black')\n",
    "plt.title(f'Distribution of {your_column}')\n",
    "plt.xlabel(your_column)\n",
    "plt.ylabel('Frequency')\n",
    "plt.show()"
   ]
  },
  {
   "cell_type": "code",
   "execution_count": 8,
   "metadata": {},
   "outputs": [],
   "source": [
    "user_ratings['sentiment'] = user_ratings['Rating'].apply(lambda x: 0 if x <= 5 else (1 if x <= 8 else 2))"
   ]
  },
  {
   "cell_type": "code",
   "execution_count": 9,
   "metadata": {},
   "outputs": [],
   "source": [
    "user_ratings = user_ratings.drop('Rating', axis=1)"
   ]
  },
  {
   "cell_type": "code",
   "execution_count": 10,
   "metadata": {},
   "outputs": [
    {
     "name": "stderr",
     "output_type": "stream",
     "text": [
      "C:\\Users\\xaris\\anaconda3\\lib\\site-packages\\sklearn\\linear_model\\_logistic.py:460: ConvergenceWarning: lbfgs failed to converge (status=1):\n",
      "STOP: TOTAL NO. of ITERATIONS REACHED LIMIT.\n",
      "\n",
      "Increase the number of iterations (max_iter) or scale the data as shown in:\n",
      "    https://scikit-learn.org/stable/modules/preprocessing.html\n",
      "Please also refer to the documentation for alternative solver options:\n",
      "    https://scikit-learn.org/stable/modules/linear_model.html#logistic-regression\n",
      "  n_iter_i = _check_optimize_result(\n"
     ]
    },
    {
     "name": "stdout",
     "output_type": "stream",
     "text": [
      "Accuracy: 0.6879937705394027\n"
     ]
    }
   ],
   "source": [
    "import pandas as pd\n",
    "from sklearn.model_selection import train_test_split\n",
    "from sklearn.linear_model import LogisticRegression\n",
    "from sklearn.metrics import accuracy_score\n",
    "\n",
    "percentage_to_keep = 10\n",
    "\n",
    "num_rows_to_keep = int(len(user_ratings) * (percentage_to_keep / 100))\n",
    "user_ratings_subset = user_ratings.sample(n=num_rows_to_keep, random_state=42)\n",
    "merged_df = pd.merge(user_ratings_subset, games, on='BGGId')\n",
    "X = merged_df.drop(['BGGId', 'sentiment'], axis=1)\n",
    "y = merged_df['sentiment']\n",
    "\n",
    "X_train, X_test, y_train, y_test = train_test_split(X, y, test_size=0.2, random_state=42)\n",
    "\n",
    "logistic_model = LogisticRegression()\n",
    "logistic_model.fit(X_train, y_train)\n",
    "\n",
    "y_pred = logistic_model.predict(X_test)\n",
    "accuracy = accuracy_score(y_test, y_pred)\n",
    "print(f'Accuracy: {accuracy}')"
   ]
  },
  {
   "cell_type": "code",
   "execution_count": null,
   "metadata": {},
   "outputs": [],
   "source": []
  },
  {
   "cell_type": "code",
   "execution_count": null,
   "metadata": {},
   "outputs": [],
   "source": []
  },
  {
   "cell_type": "code",
   "execution_count": null,
   "metadata": {},
   "outputs": [],
   "source": []
  },
  {
   "cell_type": "code",
   "execution_count": null,
   "metadata": {},
   "outputs": [],
   "source": []
  }
 ],
 "metadata": {
  "colab": {
   "authorship_tag": "ABX9TyPgjHRAUJ0+/foFIM7fhikU",
   "mount_file_id": "17RydR4IyrzQtahs1w5U-SiATolfJUDHl",
   "provenance": []
  },
  "kernelspec": {
   "display_name": "Python 3 (ipykernel)",
   "language": "python",
   "name": "python3"
  },
  "language_info": {
   "codemirror_mode": {
    "name": "ipython",
    "version": 3
   },
   "file_extension": ".py",
   "mimetype": "text/x-python",
   "name": "python",
   "nbconvert_exporter": "python",
   "pygments_lexer": "ipython3",
   "version": "3.9.18"
  }
 },
 "nbformat": 4,
 "nbformat_minor": 4
}
